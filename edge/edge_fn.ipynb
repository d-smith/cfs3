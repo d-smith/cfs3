{
 "cells": [
  {
   "cell_type": "code",
   "execution_count": 51,
   "metadata": {},
   "outputs": [],
   "source": [
    "# Region to install edge function. Note edge functions need to be created in us-east-1\n",
    "# because reasons.\n",
    "my_region = 'us-east-1'"
   ]
  },
  {
   "cell_type": "code",
   "execution_count": 52,
   "metadata": {},
   "outputs": [],
   "source": [
    "# SDK setup\n",
    "import boto3\n",
    "\n",
    "\n",
    "cloudformation = boto3.client('cloudformation',region_name = my_region)"
   ]
  },
  {
   "cell_type": "code",
   "execution_count": 53,
   "metadata": {},
   "outputs": [],
   "source": [
    "# Upload the zip and cf template\n",
    "bucket_name = 'code97068'"
   ]
  },
  {
   "cell_type": "code",
   "execution_count": 54,
   "metadata": {},
   "outputs": [
    {
     "name": "stdout",
     "output_type": "stream",
     "text": [
      "rm -f edgefn.zip\n",
      "zip edgefn.zip edgefn.js\n",
      "  adding: edgefn.js (deflated 40%)\n",
      "Completed 1.3 KiB/1.3 KiB (3.5 KiB/s) with 1 file(s) remaining\r",
      "upload: ./edge.yml to s3://code97068/edge.yml                 \n",
      "Completed 331 Bytes/331 Bytes (883 Bytes/s) with 1 file(s) remaining\r",
      "upload: ./edgefn.zip to s3://code97068/edgefn.zip                   \n"
     ]
    }
   ],
   "source": [
    "%%bash -s \"$bucket_name\"\n",
    "make\n",
    "aws s3 cp edge.yml s3://$1\n",
    "aws s3 cp edgefn.zip s3://$1"
   ]
  },
  {
   "cell_type": "code",
   "execution_count": 55,
   "metadata": {},
   "outputs": [],
   "source": [
    "def form_s3_url_prefix(region):\n",
    "    prefix = ''\n",
    "    if region == 'us-east-1':\n",
    "        prefix = 'https://s3.amazonaws.com'\n",
    "    else:\n",
    "        prefix = 'https://s3-' + region + '.amazonaws.com'\n",
    "    return prefix"
   ]
  },
  {
   "cell_type": "code",
   "execution_count": 56,
   "metadata": {},
   "outputs": [
    {
     "name": "stdout",
     "output_type": "stream",
     "text": [
      "https://s3.amazonaws.com/code97068\n"
     ]
    }
   ],
   "source": [
    "edge_fn_stack = 'site-edge-fn-2'\n",
    "bucket_base = form_s3_url_prefix(my_region) + '/' + bucket_name\n",
    "print(bucket_base)"
   ]
  },
  {
   "cell_type": "code",
   "execution_count": 57,
   "metadata": {},
   "outputs": [
    {
     "name": "stdout",
     "output_type": "stream",
     "text": [
      "{'StackId': 'arn:aws:cloudformation:us-east-1:427848627088:stack/site-edge-fn-2/036e1ee0-6824-11e8-8705-50d5cd265c36', 'ResponseMetadata': {'RequestId': '03667e8d-6824-11e8-99f3-751c0a7f86eb', 'HTTPStatusCode': 200, 'HTTPHeaders': {'x-amzn-requestid': '03667e8d-6824-11e8-99f3-751c0a7f86eb', 'content-type': 'text/xml', 'content-length': '384', 'date': 'Mon, 04 Jun 2018 18:20:51 GMT'}, 'RetryAttempts': 1}}\n"
     ]
    }
   ],
   "source": [
    "response = cloudformation.create_stack(\n",
    "    StackName=edge_fn_stack,\n",
    "    TemplateURL= bucket_base + '/edge.yml',\n",
    "    Parameters=[\n",
    "        {\n",
    "            'ParameterKey': 'CodeBucketName',\n",
    "            'ParameterValue':bucket_name\n",
    "        }\n",
    "    ],\n",
    "    Capabilities=[\n",
    "        'CAPABILITY_IAM'\n",
    "    ]\n",
    ")\n",
    "\n",
    "print(response)"
   ]
  },
  {
   "cell_type": "code",
   "execution_count": 58,
   "metadata": {},
   "outputs": [
    {
     "name": "stdout",
     "output_type": "stream",
     "text": [
      "waiting on create of site-edge-fn-2\n",
      "stack created\n"
     ]
    }
   ],
   "source": [
    "print('waiting on create of {}'.format(edge_fn_stack))\n",
    "waiter = cloudformation.get_waiter('stack_create_complete')\n",
    "waiter.wait(\n",
    "    StackName=edge_fn_stack\n",
    ")\n",
    "\n",
    "print('stack created')"
   ]
  },
  {
   "cell_type": "code",
   "execution_count": 59,
   "metadata": {},
   "outputs": [
    {
     "name": "stdout",
     "output_type": "stream",
     "text": [
      "{'Stacks': [{'StackId': 'arn:aws:cloudformation:us-east-1:427848627088:stack/site-edge-fn-2/036e1ee0-6824-11e8-8705-50d5cd265c36', 'StackName': 'site-edge-fn-2', 'Description': 'Edge function for exploring viewer request events\\n', 'Parameters': [{'ParameterKey': 'CodeBucketName', 'ParameterValue': 'code97068'}], 'CreationTime': datetime.datetime(2018, 6, 4, 18, 20, 52, 122000, tzinfo=tzutc()), 'RollbackConfiguration': {}, 'StackStatus': 'CREATE_COMPLETE', 'DisableRollback': False, 'NotificationARNs': [], 'Capabilities': ['CAPABILITY_IAM'], 'Outputs': [{'OutputKey': 'LambdaArn', 'OutputValue': 'arn:aws:lambda:us-east-1:427848627088:function:site-edge-fn-2-EdgeProto-1CYVQ6WJIB3NP'}], 'Tags': [], 'EnableTerminationProtection': False}], 'ResponseMetadata': {'RequestId': '5f167a55-6824-11e8-80fb-991df5c98ef4', 'HTTPStatusCode': 200, 'HTTPHeaders': {'x-amzn-requestid': '5f167a55-6824-11e8-80fb-991df5c98ef4', 'content-type': 'text/xml', 'content-length': '1544', 'date': 'Mon, 04 Jun 2018 18:23:24 GMT'}, 'RetryAttempts': 0}}\n",
      "arn:aws:lambda:us-east-1:427848627088:function:site-edge-fn-2-EdgeProto-1CYVQ6WJIB3NP\n"
     ]
    }
   ],
   "source": [
    "#Get the arn of the lambda function created above. We will need this to \n",
    "# set the edge function in our cloud front distribution.\n",
    "response = cloudformation.describe_stacks(\n",
    "    StackName=edge_fn_stack\n",
    ")\n",
    "\n",
    "print(response)\n",
    "\n",
    "outputs = response['Stacks'][0]['Outputs']\n",
    "lambda_arn = [d for d in outputs if d['OutputKey'] == 'LambdaArn'][0]['OutputValue']\n",
    "print(lambda_arn)"
   ]
  },
  {
   "cell_type": "code",
   "execution_count": 60,
   "metadata": {},
   "outputs": [],
   "source": [
    "# Now we need to switch to region where the site distro stack was created\n",
    "cdn_region = 'us-east-1'\n",
    "cloudfront = boto3.client('cloudfront',region_name = cdn_region)\n",
    "cloudformation = boto3.client('cloudformation',region_name = cdn_region)\n",
    "cloudfront_stack_name = 'cf1'"
   ]
  },
  {
   "cell_type": "code",
   "execution_count": 61,
   "metadata": {},
   "outputs": [
    {
     "name": "stdout",
     "output_type": "stream",
     "text": [
      "E29589VNJARSJC\n"
     ]
    }
   ],
   "source": [
    "response = cloudformation.describe_stack_resource(\n",
    "    StackName=cloudfront_stack_name,\n",
    "    LogicalResourceId='MyDistro'\n",
    ")\n",
    "\n",
    "distro_id = response['StackResourceDetail']['PhysicalResourceId']\n",
    "\n",
    "print(distro_id)\n"
   ]
  },
  {
   "cell_type": "code",
   "execution_count": 62,
   "metadata": {},
   "outputs": [
    {
     "name": "stdout",
     "output_type": "stream",
     "text": [
      "{'CallerReference': '689b5633-5d74-4783-95c2-b4b40023cca6', 'Aliases': {'Quantity': 0}, 'DefaultRootObject': '', 'Origins': {'Quantity': 1, 'Items': [{'Id': 'contentBucketOrigin', 'DomainName': 'foo97068.s3.amazonaws.com', 'OriginPath': '', 'CustomHeaders': {'Quantity': 0}, 'S3OriginConfig': {'OriginAccessIdentity': 'origin-access-identity/cloudfront/E1L6I1ZHVARFVG'}}]}, 'DefaultCacheBehavior': {'TargetOriginId': 'contentBucketOrigin', 'ForwardedValues': {'QueryString': False, 'Cookies': {'Forward': 'none'}, 'Headers': {'Quantity': 0}, 'QueryStringCacheKeys': {'Quantity': 0}}, 'TrustedSigners': {'Enabled': False, 'Quantity': 0}, 'ViewerProtocolPolicy': 'redirect-to-https', 'MinTTL': 0, 'AllowedMethods': {'Quantity': 2, 'Items': ['HEAD', 'GET'], 'CachedMethods': {'Quantity': 2, 'Items': ['HEAD', 'GET']}}, 'SmoothStreaming': False, 'DefaultTTL': 86400, 'MaxTTL': 31536000, 'Compress': False, 'LambdaFunctionAssociations': {'Quantity': 1, 'Items': [{'LambdaFunctionARN': 'arn:aws:lambda:us-east-1:427848627088:function:site-edge-fn-2-EdgeProto-EFSPERC39OAG:1', 'EventType': 'viewer-request'}]}, 'FieldLevelEncryptionId': ''}, 'CacheBehaviors': {'Quantity': 0}, 'CustomErrorResponses': {'Quantity': 0}, 'Comment': 'Good old bucket 1', 'Logging': {'Enabled': False, 'IncludeCookies': False, 'Bucket': '', 'Prefix': ''}, 'PriceClass': 'PriceClass_100', 'Enabled': True, 'ViewerCertificate': {'CloudFrontDefaultCertificate': True, 'MinimumProtocolVersion': 'TLSv1', 'CertificateSource': 'cloudfront'}, 'Restrictions': {'GeoRestriction': {'RestrictionType': 'none', 'Quantity': 0}}, 'WebACLId': '', 'HttpVersion': 'http1.1', 'IsIPV6Enabled': True}\n"
     ]
    }
   ],
   "source": [
    "response = cloudfront.get_distribution_config(\n",
    "    Id=distro_id\n",
    ")\n",
    "\n",
    "etag = response['ETag']\n",
    "config = response['DistributionConfig']\n",
    "\n",
    "print(config)"
   ]
  },
  {
   "cell_type": "code",
   "execution_count": 63,
   "metadata": {},
   "outputs": [
    {
     "name": "stdout",
     "output_type": "stream",
     "text": [
      "{'TargetOriginId': 'contentBucketOrigin', 'ForwardedValues': {'QueryString': False, 'Cookies': {'Forward': 'none'}, 'Headers': {'Quantity': 0}, 'QueryStringCacheKeys': {'Quantity': 0}}, 'TrustedSigners': {'Enabled': False, 'Quantity': 0}, 'ViewerProtocolPolicy': 'redirect-to-https', 'MinTTL': 0, 'AllowedMethods': {'Quantity': 2, 'Items': ['HEAD', 'GET'], 'CachedMethods': {'Quantity': 2, 'Items': ['HEAD', 'GET']}}, 'SmoothStreaming': False, 'DefaultTTL': 86400, 'MaxTTL': 31536000, 'Compress': False, 'LambdaFunctionAssociations': {'Quantity': 1, 'Items': [{'LambdaFunctionARN': 'arn:aws:lambda:us-east-1:427848627088:function:site-edge-fn-2-EdgeProto-EFSPERC39OAG:1', 'EventType': 'viewer-request'}]}, 'FieldLevelEncryptionId': ''}\n",
      "TargetOriginId\n",
      "ForwardedValues\n",
      "TrustedSigners\n",
      "ViewerProtocolPolicy\n",
      "MinTTL\n",
      "AllowedMethods\n",
      "SmoothStreaming\n",
      "DefaultTTL\n",
      "MaxTTL\n",
      "Compress\n",
      "LambdaFunctionAssociations\n",
      "FieldLevelEncryptionId\n"
     ]
    }
   ],
   "source": [
    "print(config['DefaultCacheBehavior'])\n",
    "for key in config['DefaultCacheBehavior']:\n",
    "    print(key)"
   ]
  },
  {
   "cell_type": "code",
   "execution_count": 64,
   "metadata": {},
   "outputs": [
    {
     "name": "stdout",
     "output_type": "stream",
     "text": [
      "{'Quantity': 1, 'Items': [{'LambdaFunctionARN': 'arn:aws:lambda:us-east-1:427848627088:function:site-edge-fn-2-EdgeProto-1CYVQ6WJIB3NP:1', 'EventType': 'viewer-request'}]}\n"
     ]
    }
   ],
   "source": [
    "lambda_version = '1'\n",
    "versioned_lambda_arn = lambda_arn + ':' + lambda_version\n",
    "lambdaAssociation = {'Quantity': 1, 'Items':[{'LambdaFunctionARN':versioned_lambda_arn, 'EventType':'viewer-request'}]}\n",
    "print(lambdaAssociation)"
   ]
  },
  {
   "cell_type": "code",
   "execution_count": 65,
   "metadata": {},
   "outputs": [],
   "source": [
    "config['DefaultCacheBehavior']['LambdaFunctionAssociations'] = lambdaAssociation"
   ]
  },
  {
   "cell_type": "code",
   "execution_count": 66,
   "metadata": {},
   "outputs": [
    {
     "name": "stdout",
     "output_type": "stream",
     "text": [
      "{'TargetOriginId': 'contentBucketOrigin', 'ForwardedValues': {'QueryString': False, 'Cookies': {'Forward': 'none'}, 'Headers': {'Quantity': 0}, 'QueryStringCacheKeys': {'Quantity': 0}}, 'TrustedSigners': {'Enabled': False, 'Quantity': 0}, 'ViewerProtocolPolicy': 'redirect-to-https', 'MinTTL': 0, 'AllowedMethods': {'Quantity': 2, 'Items': ['HEAD', 'GET'], 'CachedMethods': {'Quantity': 2, 'Items': ['HEAD', 'GET']}}, 'SmoothStreaming': False, 'DefaultTTL': 86400, 'MaxTTL': 31536000, 'Compress': False, 'LambdaFunctionAssociations': {'Quantity': 1, 'Items': [{'LambdaFunctionARN': 'arn:aws:lambda:us-east-1:427848627088:function:site-edge-fn-2-EdgeProto-1CYVQ6WJIB3NP:1', 'EventType': 'viewer-request'}]}, 'FieldLevelEncryptionId': ''}\n"
     ]
    }
   ],
   "source": [
    "print(config['DefaultCacheBehavior'])"
   ]
  },
  {
   "cell_type": "code",
   "execution_count": 67,
   "metadata": {},
   "outputs": [
    {
     "name": "stdout",
     "output_type": "stream",
     "text": [
      "{'ResponseMetadata': {'RequestId': '62d0ea4f-6824-11e8-b1ad-a93d6b494041', 'HTTPStatusCode': 200, 'HTTPHeaders': {'x-amzn-requestid': '62d0ea4f-6824-11e8-b1ad-a93d6b494041', 'etag': 'E3S2X6TQ5O9H1C', 'content-type': 'text/xml', 'content-length': '2975', 'vary': 'Accept-Encoding', 'date': 'Mon, 04 Jun 2018 18:23:31 GMT'}, 'RetryAttempts': 0}, 'ETag': 'E3S2X6TQ5O9H1C', 'Distribution': {'Id': 'E29589VNJARSJC', 'ARN': 'arn:aws:cloudfront::427848627088:distribution/E29589VNJARSJC', 'Status': 'InProgress', 'LastModifiedTime': datetime.datetime(2018, 6, 4, 18, 23, 32, 372000, tzinfo=tzutc()), 'InProgressInvalidationBatches': 0, 'DomainName': 'd37y2bas88eid3.cloudfront.net', 'ActiveTrustedSigners': {'Enabled': False, 'Quantity': 0}, 'DistributionConfig': {'CallerReference': '689b5633-5d74-4783-95c2-b4b40023cca6', 'Aliases': {'Quantity': 0}, 'DefaultRootObject': '', 'Origins': {'Quantity': 1, 'Items': [{'Id': 'contentBucketOrigin', 'DomainName': 'foo97068.s3.amazonaws.com', 'OriginPath': '', 'CustomHeaders': {'Quantity': 0}, 'S3OriginConfig': {'OriginAccessIdentity': 'origin-access-identity/cloudfront/E1L6I1ZHVARFVG'}}]}, 'DefaultCacheBehavior': {'TargetOriginId': 'contentBucketOrigin', 'ForwardedValues': {'QueryString': False, 'Cookies': {'Forward': 'none'}, 'Headers': {'Quantity': 0}, 'QueryStringCacheKeys': {'Quantity': 0}}, 'TrustedSigners': {'Enabled': False, 'Quantity': 0}, 'ViewerProtocolPolicy': 'redirect-to-https', 'MinTTL': 0, 'AllowedMethods': {'Quantity': 2, 'Items': ['HEAD', 'GET'], 'CachedMethods': {'Quantity': 2, 'Items': ['HEAD', 'GET']}}, 'SmoothStreaming': False, 'DefaultTTL': 86400, 'MaxTTL': 31536000, 'Compress': False, 'LambdaFunctionAssociations': {'Quantity': 1, 'Items': [{'LambdaFunctionARN': 'arn:aws:lambda:us-east-1:427848627088:function:site-edge-fn-2-EdgeProto-1CYVQ6WJIB3NP:1', 'EventType': 'viewer-request'}]}, 'FieldLevelEncryptionId': ''}, 'CacheBehaviors': {'Quantity': 0}, 'CustomErrorResponses': {'Quantity': 0}, 'Comment': 'Good old bucket 1', 'Logging': {'Enabled': False, 'IncludeCookies': False, 'Bucket': '', 'Prefix': ''}, 'PriceClass': 'PriceClass_100', 'Enabled': True, 'ViewerCertificate': {'CloudFrontDefaultCertificate': True, 'MinimumProtocolVersion': 'TLSv1', 'CertificateSource': 'cloudfront'}, 'Restrictions': {'GeoRestriction': {'RestrictionType': 'none', 'Quantity': 0}}, 'WebACLId': '', 'HttpVersion': 'http1.1', 'IsIPV6Enabled': True}}}\n"
     ]
    }
   ],
   "source": [
    "update_response = cloudfront.update_distribution(\n",
    "    DistributionConfig=config,\n",
    "    Id=distro_id,\n",
    "    IfMatch=etag\n",
    ")\n",
    "\n",
    "print(update_response)"
   ]
  },
  {
   "cell_type": "code",
   "execution_count": null,
   "metadata": {},
   "outputs": [],
   "source": []
  }
 ],
 "metadata": {
  "kernelspec": {
   "display_name": "Python 3",
   "language": "python",
   "name": "python3"
  },
  "language_info": {
   "codemirror_mode": {
    "name": "ipython",
    "version": 3
   },
   "file_extension": ".py",
   "mimetype": "text/x-python",
   "name": "python",
   "nbconvert_exporter": "python",
   "pygments_lexer": "ipython3",
   "version": "3.6.4"
  }
 },
 "nbformat": 4,
 "nbformat_minor": 1
}
