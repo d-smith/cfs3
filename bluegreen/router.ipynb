{
 "cells": [
  {
   "cell_type": "code",
   "execution_count": 95,
   "metadata": {},
   "outputs": [],
   "source": [
    "# Region to install edge function. Note edge functions need to be created in us-east-1\n",
    "# because reasons.\n",
    "my_region = 'us-east-1'"
   ]
  },
  {
   "cell_type": "code",
   "execution_count": 96,
   "metadata": {},
   "outputs": [],
   "source": [
    "# SDK setup\n",
    "import boto3\n",
    "\n",
    "cloudformation = boto3.client('cloudformation',region_name = my_region)"
   ]
  },
  {
   "cell_type": "code",
   "execution_count": 97,
   "metadata": {},
   "outputs": [],
   "source": [
    "# Upload the zip and cf template\n",
    "bucket_name = 'code97068'"
   ]
  },
  {
   "cell_type": "code",
   "execution_count": 98,
   "metadata": {},
   "outputs": [
    {
     "name": "stdout",
     "output_type": "stream",
     "text": [
      "rm -f router.zip\n",
      "zip router.zip router.js\n",
      "  adding: router.js (deflated 47%)\n",
      "Completed 1.5 KiB/1.5 KiB (2.6 KiB/s) with 1 file(s) remaining\r",
      "upload: ./edge.yml to s3://code97068/edge.yml                 \n",
      "Completed 556 Bytes/556 Bytes (1.5 KiB/s) with 1 file(s) remaining\r",
      "upload: ./router.zip to s3://code97068/router.zip                 \n"
     ]
    }
   ],
   "source": [
    "%%bash -s \"$bucket_name\"\n",
    "make\n",
    "aws s3 cp edge.yml s3://$1\n",
    "aws s3 cp router.zip s3://$1"
   ]
  },
  {
   "cell_type": "code",
   "execution_count": 99,
   "metadata": {},
   "outputs": [],
   "source": [
    "def form_s3_url_prefix(region):\n",
    "    prefix = ''\n",
    "    if region == 'us-east-1':\n",
    "        prefix = 'https://s3.amazonaws.com'\n",
    "    else:\n",
    "        prefix = 'https://s3-' + region + '.amazonaws.com'\n",
    "    return prefix"
   ]
  },
  {
   "cell_type": "code",
   "execution_count": 100,
   "metadata": {},
   "outputs": [
    {
     "name": "stdout",
     "output_type": "stream",
     "text": [
      "https://s3.amazonaws.com/code97068\n"
     ]
    }
   ],
   "source": [
    "edge_fn_stack = 'bgrouter1'\n",
    "bucket_base = form_s3_url_prefix(my_region) + '/' + bucket_name\n",
    "print(bucket_base)"
   ]
  },
  {
   "cell_type": "code",
   "execution_count": 101,
   "metadata": {},
   "outputs": [
    {
     "name": "stdout",
     "output_type": "stream",
     "text": [
      "{'StackId': 'arn:aws:cloudformation:us-east-1:427848627088:stack/bgrouter1/7949add0-68f8-11e8-a778-500c5240582a', 'ResponseMetadata': {'RequestId': '79428251-68f8-11e8-8109-45c2f7c50e78', 'HTTPStatusCode': 200, 'HTTPHeaders': {'x-amzn-requestid': '79428251-68f8-11e8-8109-45c2f7c50e78', 'content-type': 'text/xml', 'content-length': '379', 'date': 'Tue, 05 Jun 2018 19:41:42 GMT'}, 'RetryAttempts': 0}}\n"
     ]
    }
   ],
   "source": [
    "response = cloudformation.create_stack(\n",
    "    StackName=edge_fn_stack,\n",
    "    TemplateURL= bucket_base + '/edge.yml',\n",
    "    Parameters=[\n",
    "        {\n",
    "            'ParameterKey': 'CodeBucketName',\n",
    "            'ParameterValue':bucket_name\n",
    "        }\n",
    "    ],\n",
    "    Capabilities=[\n",
    "        'CAPABILITY_IAM'\n",
    "    ]\n",
    ")\n",
    "\n",
    "print(response)"
   ]
  },
  {
   "cell_type": "code",
   "execution_count": 102,
   "metadata": {},
   "outputs": [
    {
     "name": "stdout",
     "output_type": "stream",
     "text": [
      "waiting on create of bgrouter1\n",
      "stack created\n"
     ]
    }
   ],
   "source": [
    "print('waiting on create of {}'.format(edge_fn_stack))\n",
    "waiter = cloudformation.get_waiter('stack_create_complete')\n",
    "waiter.wait(\n",
    "    StackName=edge_fn_stack\n",
    ")\n",
    "\n",
    "print('stack created')"
   ]
  },
  {
   "cell_type": "code",
   "execution_count": 103,
   "metadata": {},
   "outputs": [
    {
     "name": "stdout",
     "output_type": "stream",
     "text": [
      "{'Stacks': [{'StackId': 'arn:aws:cloudformation:us-east-1:427848627088:stack/bgrouter1/7949add0-68f8-11e8-a778-500c5240582a', 'StackName': 'bgrouter1', 'Description': 'Create an edge function that can be associated with a cloud front distribution. This is separate from the cloud front distro at the moment as the bucket name needs to be hard coded as it cannot be injected via environment vars due to edge function restrictions.\\n', 'Parameters': [{'ParameterKey': 'CodeBucketName', 'ParameterValue': 'code97068'}], 'CreationTime': datetime.datetime(2018, 6, 5, 19, 41, 43, 155000, tzinfo=tzutc()), 'RollbackConfiguration': {}, 'StackStatus': 'CREATE_COMPLETE', 'DisableRollback': False, 'NotificationARNs': [], 'Capabilities': ['CAPABILITY_IAM'], 'Outputs': [{'OutputKey': 'LambdaArn', 'OutputValue': 'arn:aws:lambda:us-east-1:427848627088:function:bgrouter1-EdgeProto-1PFL1SBUXZIO2'}], 'Tags': [], 'EnableTerminationProtection': False}], 'ResponseMetadata': {'RequestId': 'b3c6ac4f-68f8-11e8-b06f-8bac24811007', 'HTTPStatusCode': 200, 'HTTPHeaders': {'x-amzn-requestid': 'b3c6ac4f-68f8-11e8-b06f-8bac24811007', 'content-type': 'text/xml', 'content-length': '1741', 'date': 'Tue, 05 Jun 2018 19:43:21 GMT'}, 'RetryAttempts': 0}}\n",
      "arn:aws:lambda:us-east-1:427848627088:function:bgrouter1-EdgeProto-1PFL1SBUXZIO2\n"
     ]
    }
   ],
   "source": [
    "#Get the arn of the lambda function created above. We will need this to \n",
    "# set the edge function in our cloud front distribution.\n",
    "response = cloudformation.describe_stacks(\n",
    "    StackName=edge_fn_stack\n",
    ")\n",
    "\n",
    "print(response)\n",
    "\n",
    "outputs = response['Stacks'][0]['Outputs']\n",
    "lambda_arn = [d for d in outputs if d['OutputKey'] == 'LambdaArn'][0]['OutputValue']\n",
    "print(lambda_arn)"
   ]
  },
  {
   "cell_type": "code",
   "execution_count": 104,
   "metadata": {},
   "outputs": [],
   "source": [
    "# Now we need to switch to region where the site distro stack was created\n",
    "cdn_region = 'us-east-1'\n",
    "cloudfront = boto3.client('cloudfront',region_name = cdn_region)\n",
    "cloudformation = boto3.client('cloudformation',region_name = cdn_region)\n",
    "cloudfront_stack_name = 'bg1'"
   ]
  },
  {
   "cell_type": "code",
   "execution_count": 105,
   "metadata": {},
   "outputs": [
    {
     "name": "stdout",
     "output_type": "stream",
     "text": [
      "E2W4Z3UU56NZ6Q\n"
     ]
    }
   ],
   "source": [
    "response = cloudformation.describe_stack_resource(\n",
    "    StackName=cloudfront_stack_name,\n",
    "    LogicalResourceId='MyDistro'\n",
    ")\n",
    "\n",
    "distro_id = response['StackResourceDetail']['PhysicalResourceId']\n",
    "\n",
    "print(distro_id)\n"
   ]
  },
  {
   "cell_type": "code",
   "execution_count": 107,
   "metadata": {},
   "outputs": [
    {
     "name": "stdout",
     "output_type": "stream",
     "text": [
      "{'CallerReference': 'df1dac54-b4cd-48c5-874a-be4e3ae463f4', 'Aliases': {'Quantity': 0}, 'DefaultRootObject': '', 'Origins': {'Quantity': 3, 'Items': [{'Id': 'default', 'DomainName': 'bg1-defaultbucket-13crklj51b5uv.s3.amazonaws.com', 'OriginPath': '', 'CustomHeaders': {'Quantity': 0}, 'S3OriginConfig': {'OriginAccessIdentity': 'origin-access-identity/cloudfront/E1H23UGIMIGJXU'}}, {'Id': 'green', 'DomainName': 'bg1-greenbucket-1uxs4t2hxe1jr.s3.amazonaws.com', 'OriginPath': '', 'CustomHeaders': {'Quantity': 0}, 'S3OriginConfig': {'OriginAccessIdentity': 'origin-access-identity/cloudfront/E1H23UGIMIGJXU'}}, {'Id': 'blue', 'DomainName': 'bg1-bluebucket-1oiwc3xnxyqzc.s3.amazonaws.com', 'OriginPath': '', 'CustomHeaders': {'Quantity': 0}, 'S3OriginConfig': {'OriginAccessIdentity': 'origin-access-identity/cloudfront/E1H23UGIMIGJXU'}}]}, 'DefaultCacheBehavior': {'TargetOriginId': 'default', 'ForwardedValues': {'QueryString': False, 'Cookies': {'Forward': 'none'}, 'Headers': {'Quantity': 0}, 'QueryStringCacheKeys': {'Quantity': 0}}, 'TrustedSigners': {'Enabled': False, 'Quantity': 0}, 'ViewerProtocolPolicy': 'redirect-to-https', 'MinTTL': 0, 'AllowedMethods': {'Quantity': 2, 'Items': ['HEAD', 'GET'], 'CachedMethods': {'Quantity': 2, 'Items': ['HEAD', 'GET']}}, 'SmoothStreaming': False, 'DefaultTTL': 300, 'MaxTTL': 600, 'Compress': False, 'LambdaFunctionAssociations': {'Quantity': 1, 'Items': [{'LambdaFunctionARN': 'arn:aws:lambda:us-east-1:427848627088:function:bgrouter1-EdgeProto-LFS0ERENFNYU:1', 'EventType': 'origin-request'}]}, 'FieldLevelEncryptionId': ''}, 'CacheBehaviors': {'Quantity': 0}, 'CustomErrorResponses': {'Quantity': 0}, 'Comment': 'Blue green bucket routing', 'Logging': {'Enabled': False, 'IncludeCookies': False, 'Bucket': '', 'Prefix': ''}, 'PriceClass': 'PriceClass_100', 'Enabled': True, 'ViewerCertificate': {'CloudFrontDefaultCertificate': True, 'MinimumProtocolVersion': 'TLSv1', 'CertificateSource': 'cloudfront'}, 'Restrictions': {'GeoRestriction': {'RestrictionType': 'none', 'Quantity': 0}}, 'WebACLId': '', 'HttpVersion': 'http1.1', 'IsIPV6Enabled': True}\n"
     ]
    }
   ],
   "source": [
    "response = cloudfront.get_distribution_config(\n",
    "    Id=distro_id\n",
    ")\n",
    "\n",
    "etag = response['ETag']\n",
    "config = response['DistributionConfig']\n",
    "\n",
    "print(config)"
   ]
  },
  {
   "cell_type": "code",
   "execution_count": 108,
   "metadata": {},
   "outputs": [
    {
     "name": "stdout",
     "output_type": "stream",
     "text": [
      "{'TargetOriginId': 'default', 'ForwardedValues': {'QueryString': False, 'Cookies': {'Forward': 'none'}, 'Headers': {'Quantity': 0}, 'QueryStringCacheKeys': {'Quantity': 0}}, 'TrustedSigners': {'Enabled': False, 'Quantity': 0}, 'ViewerProtocolPolicy': 'redirect-to-https', 'MinTTL': 0, 'AllowedMethods': {'Quantity': 2, 'Items': ['HEAD', 'GET'], 'CachedMethods': {'Quantity': 2, 'Items': ['HEAD', 'GET']}}, 'SmoothStreaming': False, 'DefaultTTL': 300, 'MaxTTL': 600, 'Compress': False, 'LambdaFunctionAssociations': {'Quantity': 1, 'Items': [{'LambdaFunctionARN': 'arn:aws:lambda:us-east-1:427848627088:function:bgrouter1-EdgeProto-LFS0ERENFNYU:1', 'EventType': 'origin-request'}]}, 'FieldLevelEncryptionId': ''}\n",
      "TargetOriginId\n",
      "ForwardedValues\n",
      "TrustedSigners\n",
      "ViewerProtocolPolicy\n",
      "MinTTL\n",
      "AllowedMethods\n",
      "SmoothStreaming\n",
      "DefaultTTL\n",
      "MaxTTL\n",
      "Compress\n",
      "LambdaFunctionAssociations\n",
      "FieldLevelEncryptionId\n"
     ]
    }
   ],
   "source": [
    "print(config['DefaultCacheBehavior'])\n",
    "for key in config['DefaultCacheBehavior']:\n",
    "    print(key)"
   ]
  },
  {
   "cell_type": "code",
   "execution_count": 109,
   "metadata": {},
   "outputs": [
    {
     "name": "stdout",
     "output_type": "stream",
     "text": [
      "{'Quantity': 1, 'Items': [{'LambdaFunctionARN': 'arn:aws:lambda:us-east-1:427848627088:function:bgrouter1-EdgeProto-1PFL1SBUXZIO2:1', 'EventType': 'origin-request'}]}\n"
     ]
    }
   ],
   "source": [
    "lambda_version = '1'\n",
    "versioned_lambda_arn = lambda_arn + ':' + lambda_version\n",
    "lambdaAssociation = {'Quantity': 1, 'Items':[{'LambdaFunctionARN':versioned_lambda_arn, 'EventType':'origin-request'}]}\n",
    "print(lambdaAssociation)"
   ]
  },
  {
   "cell_type": "code",
   "execution_count": 110,
   "metadata": {},
   "outputs": [],
   "source": [
    "config['DefaultCacheBehavior']['LambdaFunctionAssociations'] = lambdaAssociation"
   ]
  },
  {
   "cell_type": "code",
   "execution_count": 111,
   "metadata": {},
   "outputs": [
    {
     "name": "stdout",
     "output_type": "stream",
     "text": [
      "{'TargetOriginId': 'default', 'ForwardedValues': {'QueryString': False, 'Cookies': {'Forward': 'none'}, 'Headers': {'Quantity': 0}, 'QueryStringCacheKeys': {'Quantity': 0}}, 'TrustedSigners': {'Enabled': False, 'Quantity': 0}, 'ViewerProtocolPolicy': 'redirect-to-https', 'MinTTL': 0, 'AllowedMethods': {'Quantity': 2, 'Items': ['HEAD', 'GET'], 'CachedMethods': {'Quantity': 2, 'Items': ['HEAD', 'GET']}}, 'SmoothStreaming': False, 'DefaultTTL': 300, 'MaxTTL': 600, 'Compress': False, 'LambdaFunctionAssociations': {'Quantity': 1, 'Items': [{'LambdaFunctionARN': 'arn:aws:lambda:us-east-1:427848627088:function:bgrouter1-EdgeProto-1PFL1SBUXZIO2:1', 'EventType': 'origin-request'}]}, 'FieldLevelEncryptionId': ''}\n"
     ]
    }
   ],
   "source": [
    "print(config['DefaultCacheBehavior'])"
   ]
  },
  {
   "cell_type": "code",
   "execution_count": 112,
   "metadata": {},
   "outputs": [
    {
     "name": "stdout",
     "output_type": "stream",
     "text": [
      "{'ResponseMetadata': {'RequestId': 'bb203c27-68f8-11e8-9a65-5398ac69d75a', 'HTTPStatusCode': 200, 'HTTPHeaders': {'x-amzn-requestid': 'bb203c27-68f8-11e8-9a65-5398ac69d75a', 'etag': 'E2J4LDHEGMUQXT', 'content-type': 'text/xml', 'content-length': '3580', 'vary': 'Accept-Encoding', 'date': 'Tue, 05 Jun 2018 19:43:33 GMT'}, 'RetryAttempts': 0}, 'ETag': 'E2J4LDHEGMUQXT', 'Distribution': {'Id': 'E2W4Z3UU56NZ6Q', 'ARN': 'arn:aws:cloudfront::427848627088:distribution/E2W4Z3UU56NZ6Q', 'Status': 'InProgress', 'LastModifiedTime': datetime.datetime(2018, 6, 5, 19, 43, 33, 845000, tzinfo=tzutc()), 'InProgressInvalidationBatches': 0, 'DomainName': 'd3q95kwcioahms.cloudfront.net', 'ActiveTrustedSigners': {'Enabled': False, 'Quantity': 0}, 'DistributionConfig': {'CallerReference': 'df1dac54-b4cd-48c5-874a-be4e3ae463f4', 'Aliases': {'Quantity': 0}, 'DefaultRootObject': '', 'Origins': {'Quantity': 3, 'Items': [{'Id': 'default', 'DomainName': 'bg1-defaultbucket-13crklj51b5uv.s3.amazonaws.com', 'OriginPath': '', 'CustomHeaders': {'Quantity': 0}, 'S3OriginConfig': {'OriginAccessIdentity': 'origin-access-identity/cloudfront/E1H23UGIMIGJXU'}}, {'Id': 'green', 'DomainName': 'bg1-greenbucket-1uxs4t2hxe1jr.s3.amazonaws.com', 'OriginPath': '', 'CustomHeaders': {'Quantity': 0}, 'S3OriginConfig': {'OriginAccessIdentity': 'origin-access-identity/cloudfront/E1H23UGIMIGJXU'}}, {'Id': 'blue', 'DomainName': 'bg1-bluebucket-1oiwc3xnxyqzc.s3.amazonaws.com', 'OriginPath': '', 'CustomHeaders': {'Quantity': 0}, 'S3OriginConfig': {'OriginAccessIdentity': 'origin-access-identity/cloudfront/E1H23UGIMIGJXU'}}]}, 'DefaultCacheBehavior': {'TargetOriginId': 'default', 'ForwardedValues': {'QueryString': False, 'Cookies': {'Forward': 'none'}, 'Headers': {'Quantity': 0}, 'QueryStringCacheKeys': {'Quantity': 0}}, 'TrustedSigners': {'Enabled': False, 'Quantity': 0}, 'ViewerProtocolPolicy': 'redirect-to-https', 'MinTTL': 0, 'AllowedMethods': {'Quantity': 2, 'Items': ['HEAD', 'GET'], 'CachedMethods': {'Quantity': 2, 'Items': ['HEAD', 'GET']}}, 'SmoothStreaming': False, 'DefaultTTL': 300, 'MaxTTL': 600, 'Compress': False, 'LambdaFunctionAssociations': {'Quantity': 1, 'Items': [{'LambdaFunctionARN': 'arn:aws:lambda:us-east-1:427848627088:function:bgrouter1-EdgeProto-1PFL1SBUXZIO2:1', 'EventType': 'origin-request'}]}, 'FieldLevelEncryptionId': ''}, 'CacheBehaviors': {'Quantity': 0}, 'CustomErrorResponses': {'Quantity': 0}, 'Comment': 'Blue green bucket routing', 'Logging': {'Enabled': False, 'IncludeCookies': False, 'Bucket': '', 'Prefix': ''}, 'PriceClass': 'PriceClass_100', 'Enabled': True, 'ViewerCertificate': {'CloudFrontDefaultCertificate': True, 'MinimumProtocolVersion': 'TLSv1', 'CertificateSource': 'cloudfront'}, 'Restrictions': {'GeoRestriction': {'RestrictionType': 'none', 'Quantity': 0}}, 'WebACLId': '', 'HttpVersion': 'http1.1', 'IsIPV6Enabled': True}}}\n"
     ]
    }
   ],
   "source": [
    "update_response = cloudfront.update_distribution(\n",
    "    DistributionConfig=config,\n",
    "    Id=distro_id,\n",
    "    IfMatch=etag\n",
    ")\n",
    "\n",
    "print(update_response)"
   ]
  },
  {
   "cell_type": "code",
   "execution_count": null,
   "metadata": {},
   "outputs": [],
   "source": []
  }
 ],
 "metadata": {
  "kernelspec": {
   "display_name": "Python 3",
   "language": "python",
   "name": "python3"
  },
  "language_info": {
   "codemirror_mode": {
    "name": "ipython",
    "version": 3
   },
   "file_extension": ".py",
   "mimetype": "text/x-python",
   "name": "python",
   "nbconvert_exporter": "python",
   "pygments_lexer": "ipython3",
   "version": "3.6.4"
  }
 },
 "nbformat": 4,
 "nbformat_minor": 1
}
